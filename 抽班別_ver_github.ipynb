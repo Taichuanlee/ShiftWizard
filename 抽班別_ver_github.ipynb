{
  "cells": [
    {
      "cell_type": "markdown",
      "metadata": {
        "id": "view-in-github",
        "colab_type": "text"
      },
      "source": [
        "<a href=\"https://colab.research.google.com/github/Taichuanlee/ShiftWizard/blob/main/%E6%8A%BD%E7%8F%AD%E5%88%A5_ver_github.ipynb\" target=\"_parent\"><img src=\"https://colab.research.google.com/assets/colab-badge.svg\" alt=\"Open In Colab\"/></a>"
      ]
    },
    {
      "cell_type": "code",
      "execution_count": null,
      "metadata": {
        "colab": {
          "base_uri": "https://localhost:8080/"
        },
        "collapsed": true,
        "id": "B6VgNStQ8BQU",
        "outputId": "69c6764b-04c5-476a-8e03-15acbd7eaf04"
      },
      "outputs": [
        {
          "output_type": "stream",
          "name": "stderr",
          "text": [
            "<ipython-input-45-11cc1a33298d>:75: FutureWarning: Series.__getitem__ treating keys as positions is deprecated. In a future version, integer keys will always be treated as labels (consistent with DataFrame behavior). To access a value by position, use `ser.iloc[pos]`\n",
            "  if schedule.at[employee, month] == original[i]:\n",
            "<ipython-input-45-11cc1a33298d>:99: FutureWarning: Series.__getitem__ treating keys as positions is deprecated. In a future version, integer keys will always be treated as labels (consistent with DataFrame behavior). To access a value by position, use `ser.iloc[pos]`\n",
            "  if schedule.at[top_employee, month] == original[i] and schedule.at[employee, month] != original[i]:\n"
          ]
        },
        {
          "output_type": "stream",
          "name": "stdout",
          "text": [
            "Requirement already satisfied: gradio in /usr/local/lib/python3.10/dist-packages (5.1.0)\n",
            "Requirement already satisfied: aiofiles<24.0,>=22.0 in /usr/local/lib/python3.10/dist-packages (from gradio) (23.2.1)\n",
            "Requirement already satisfied: anyio<5.0,>=3.0 in /usr/local/lib/python3.10/dist-packages (from gradio) (3.7.1)\n",
            "Requirement already satisfied: fastapi<1.0 in /usr/local/lib/python3.10/dist-packages (from gradio) (0.115.2)\n",
            "Requirement already satisfied: ffmpy in /usr/local/lib/python3.10/dist-packages (from gradio) (0.4.0)\n",
            "Requirement already satisfied: gradio-client==1.4.0 in /usr/local/lib/python3.10/dist-packages (from gradio) (1.4.0)\n",
            "Requirement already satisfied: httpx>=0.24.1 in /usr/local/lib/python3.10/dist-packages (from gradio) (0.27.2)\n",
            "Requirement already satisfied: huggingface-hub>=0.25.1 in /usr/local/lib/python3.10/dist-packages (from gradio) (0.25.2)\n",
            "Requirement already satisfied: jinja2<4.0 in /usr/local/lib/python3.10/dist-packages (from gradio) (3.1.4)\n",
            "Requirement already satisfied: markupsafe~=2.0 in /usr/local/lib/python3.10/dist-packages (from gradio) (2.1.5)\n",
            "Requirement already satisfied: numpy<3.0,>=1.0 in /usr/local/lib/python3.10/dist-packages (from gradio) (1.26.4)\n",
            "Requirement already satisfied: orjson~=3.0 in /usr/local/lib/python3.10/dist-packages (from gradio) (3.10.7)\n",
            "Requirement already satisfied: packaging in /usr/local/lib/python3.10/dist-packages (from gradio) (24.1)\n",
            "Requirement already satisfied: pandas<3.0,>=1.0 in /usr/local/lib/python3.10/dist-packages (from gradio) (2.2.2)\n",
            "Requirement already satisfied: pillow<11.0,>=8.0 in /usr/local/lib/python3.10/dist-packages (from gradio) (10.4.0)\n",
            "Requirement already satisfied: pydantic>=2.0 in /usr/local/lib/python3.10/dist-packages (from gradio) (2.9.2)\n",
            "Requirement already satisfied: pydub in /usr/local/lib/python3.10/dist-packages (from gradio) (0.25.1)\n",
            "Requirement already satisfied: python-multipart>=0.0.9 in /usr/local/lib/python3.10/dist-packages (from gradio) (0.0.12)\n",
            "Requirement already satisfied: pyyaml<7.0,>=5.0 in /usr/local/lib/python3.10/dist-packages (from gradio) (6.0.2)\n",
            "Requirement already satisfied: ruff>=0.2.2 in /usr/local/lib/python3.10/dist-packages (from gradio) (0.6.9)\n",
            "Requirement already satisfied: semantic-version~=2.0 in /usr/local/lib/python3.10/dist-packages (from gradio) (2.10.0)\n",
            "Requirement already satisfied: tomlkit==0.12.0 in /usr/local/lib/python3.10/dist-packages (from gradio) (0.12.0)\n",
            "Requirement already satisfied: typer<1.0,>=0.12 in /usr/local/lib/python3.10/dist-packages (from gradio) (0.12.5)\n",
            "Requirement already satisfied: typing-extensions~=4.0 in /usr/local/lib/python3.10/dist-packages (from gradio) (4.12.2)\n",
            "Requirement already satisfied: uvicorn>=0.14.0 in /usr/local/lib/python3.10/dist-packages (from gradio) (0.32.0)\n",
            "Requirement already satisfied: fsspec in /usr/local/lib/python3.10/dist-packages (from gradio-client==1.4.0->gradio) (2024.6.1)\n",
            "Requirement already satisfied: websockets<13.0,>=10.0 in /usr/local/lib/python3.10/dist-packages (from gradio-client==1.4.0->gradio) (12.0)\n",
            "Requirement already satisfied: idna>=2.8 in /usr/local/lib/python3.10/dist-packages (from anyio<5.0,>=3.0->gradio) (3.10)\n",
            "Requirement already satisfied: sniffio>=1.1 in /usr/local/lib/python3.10/dist-packages (from anyio<5.0,>=3.0->gradio) (1.3.1)\n",
            "Requirement already satisfied: exceptiongroup in /usr/local/lib/python3.10/dist-packages (from anyio<5.0,>=3.0->gradio) (1.2.2)\n",
            "Requirement already satisfied: starlette<0.41.0,>=0.37.2 in /usr/local/lib/python3.10/dist-packages (from fastapi<1.0->gradio) (0.40.0)\n",
            "Requirement already satisfied: certifi in /usr/local/lib/python3.10/dist-packages (from httpx>=0.24.1->gradio) (2024.8.30)\n",
            "Requirement already satisfied: httpcore==1.* in /usr/local/lib/python3.10/dist-packages (from httpx>=0.24.1->gradio) (1.0.6)\n",
            "Requirement already satisfied: h11<0.15,>=0.13 in /usr/local/lib/python3.10/dist-packages (from httpcore==1.*->httpx>=0.24.1->gradio) (0.14.0)\n",
            "Requirement already satisfied: filelock in /usr/local/lib/python3.10/dist-packages (from huggingface-hub>=0.25.1->gradio) (3.16.1)\n",
            "Requirement already satisfied: requests in /usr/local/lib/python3.10/dist-packages (from huggingface-hub>=0.25.1->gradio) (2.32.3)\n",
            "Requirement already satisfied: tqdm>=4.42.1 in /usr/local/lib/python3.10/dist-packages (from huggingface-hub>=0.25.1->gradio) (4.66.5)\n",
            "Requirement already satisfied: python-dateutil>=2.8.2 in /usr/local/lib/python3.10/dist-packages (from pandas<3.0,>=1.0->gradio) (2.8.2)\n",
            "Requirement already satisfied: pytz>=2020.1 in /usr/local/lib/python3.10/dist-packages (from pandas<3.0,>=1.0->gradio) (2024.2)\n",
            "Requirement already satisfied: tzdata>=2022.7 in /usr/local/lib/python3.10/dist-packages (from pandas<3.0,>=1.0->gradio) (2024.2)\n",
            "Requirement already satisfied: annotated-types>=0.6.0 in /usr/local/lib/python3.10/dist-packages (from pydantic>=2.0->gradio) (0.7.0)\n",
            "Requirement already satisfied: pydantic-core==2.23.4 in /usr/local/lib/python3.10/dist-packages (from pydantic>=2.0->gradio) (2.23.4)\n",
            "Requirement already satisfied: click>=8.0.0 in /usr/local/lib/python3.10/dist-packages (from typer<1.0,>=0.12->gradio) (8.1.7)\n",
            "Requirement already satisfied: shellingham>=1.3.0 in /usr/local/lib/python3.10/dist-packages (from typer<1.0,>=0.12->gradio) (1.5.4)\n",
            "Requirement already satisfied: rich>=10.11.0 in /usr/local/lib/python3.10/dist-packages (from typer<1.0,>=0.12->gradio) (13.9.2)\n",
            "Requirement already satisfied: six>=1.5 in /usr/local/lib/python3.10/dist-packages (from python-dateutil>=2.8.2->pandas<3.0,>=1.0->gradio) (1.16.0)\n",
            "Requirement already satisfied: markdown-it-py>=2.2.0 in /usr/local/lib/python3.10/dist-packages (from rich>=10.11.0->typer<1.0,>=0.12->gradio) (3.0.0)\n",
            "Requirement already satisfied: pygments<3.0.0,>=2.13.0 in /usr/local/lib/python3.10/dist-packages (from rich>=10.11.0->typer<1.0,>=0.12->gradio) (2.18.0)\n",
            "Requirement already satisfied: charset-normalizer<4,>=2 in /usr/local/lib/python3.10/dist-packages (from requests->huggingface-hub>=0.25.1->gradio) (3.4.0)\n",
            "Requirement already satisfied: urllib3<3,>=1.21.1 in /usr/local/lib/python3.10/dist-packages (from requests->huggingface-hub>=0.25.1->gradio) (2.2.3)\n",
            "Requirement already satisfied: mdurl~=0.1 in /usr/local/lib/python3.10/dist-packages (from markdown-it-py>=2.2.0->rich>=10.11.0->typer<1.0,>=0.12->gradio) (0.1.2)\n"
          ]
        }
      ],
      "source": [
        "!pip install gradio\n"
      ]
    },
    {
      "cell_type": "code",
      "execution_count": null,
      "metadata": {
        "colab": {
          "base_uri": "https://localhost:8080/"
        },
        "collapsed": true,
        "id": "_Ah4yCCNZ-Ix",
        "outputId": "3d61420b-f1df-41f8-d38e-bb3bce1e78c4"
      },
      "outputs": [
        {
          "output_type": "stream",
          "name": "stderr",
          "text": [
            "<ipython-input-45-11cc1a33298d>:75: FutureWarning: Series.__getitem__ treating keys as positions is deprecated. In a future version, integer keys will always be treated as labels (consistent with DataFrame behavior). To access a value by position, use `ser.iloc[pos]`\n",
            "  if schedule.at[employee, month] == original[i]:\n",
            "<ipython-input-45-11cc1a33298d>:99: FutureWarning: Series.__getitem__ treating keys as positions is deprecated. In a future version, integer keys will always be treated as labels (consistent with DataFrame behavior). To access a value by position, use `ser.iloc[pos]`\n",
            "  if schedule.at[top_employee, month] == original[i] and schedule.at[employee, month] != original[i]:\n"
          ]
        },
        {
          "output_type": "stream",
          "name": "stdout",
          "text": [
            "Requirement already satisfied: gspread in /usr/local/lib/python3.10/dist-packages (6.0.2)\n",
            "Requirement already satisfied: oauth2client in /usr/local/lib/python3.10/dist-packages (4.1.3)\n",
            "Requirement already satisfied: google-auth>=1.12.0 in /usr/local/lib/python3.10/dist-packages (from gspread) (2.27.0)\n",
            "Requirement already satisfied: google-auth-oauthlib>=0.4.1 in /usr/local/lib/python3.10/dist-packages (from gspread) (1.2.1)\n",
            "Requirement already satisfied: StrEnum==0.4.15 in /usr/local/lib/python3.10/dist-packages (from gspread) (0.4.15)\n",
            "Requirement already satisfied: httplib2>=0.9.1 in /usr/local/lib/python3.10/dist-packages (from oauth2client) (0.22.0)\n",
            "Requirement already satisfied: pyasn1>=0.1.7 in /usr/local/lib/python3.10/dist-packages (from oauth2client) (0.6.1)\n",
            "Requirement already satisfied: pyasn1-modules>=0.0.5 in /usr/local/lib/python3.10/dist-packages (from oauth2client) (0.4.1)\n",
            "Requirement already satisfied: rsa>=3.1.4 in /usr/local/lib/python3.10/dist-packages (from oauth2client) (4.9)\n",
            "Requirement already satisfied: six>=1.6.1 in /usr/local/lib/python3.10/dist-packages (from oauth2client) (1.16.0)\n",
            "Requirement already satisfied: cachetools<6.0,>=2.0.0 in /usr/local/lib/python3.10/dist-packages (from google-auth>=1.12.0->gspread) (5.5.0)\n",
            "Requirement already satisfied: requests-oauthlib>=0.7.0 in /usr/local/lib/python3.10/dist-packages (from google-auth-oauthlib>=0.4.1->gspread) (1.3.1)\n",
            "Requirement already satisfied: pyparsing!=3.0.0,!=3.0.1,!=3.0.2,!=3.0.3,<4,>=2.4.2 in /usr/local/lib/python3.10/dist-packages (from httplib2>=0.9.1->oauth2client) (3.1.4)\n",
            "Requirement already satisfied: oauthlib>=3.0.0 in /usr/local/lib/python3.10/dist-packages (from requests-oauthlib>=0.7.0->google-auth-oauthlib>=0.4.1->gspread) (3.2.2)\n",
            "Requirement already satisfied: requests>=2.0.0 in /usr/local/lib/python3.10/dist-packages (from requests-oauthlib>=0.7.0->google-auth-oauthlib>=0.4.1->gspread) (2.32.3)\n",
            "Requirement already satisfied: charset-normalizer<4,>=2 in /usr/local/lib/python3.10/dist-packages (from requests>=2.0.0->requests-oauthlib>=0.7.0->google-auth-oauthlib>=0.4.1->gspread) (3.4.0)\n",
            "Requirement already satisfied: idna<4,>=2.5 in /usr/local/lib/python3.10/dist-packages (from requests>=2.0.0->requests-oauthlib>=0.7.0->google-auth-oauthlib>=0.4.1->gspread) (3.10)\n",
            "Requirement already satisfied: urllib3<3,>=1.21.1 in /usr/local/lib/python3.10/dist-packages (from requests>=2.0.0->requests-oauthlib>=0.7.0->google-auth-oauthlib>=0.4.1->gspread) (2.2.3)\n",
            "Requirement already satisfied: certifi>=2017.4.17 in /usr/local/lib/python3.10/dist-packages (from requests>=2.0.0->requests-oauthlib>=0.7.0->google-auth-oauthlib>=0.4.1->gspread) (2024.8.30)\n"
          ]
        }
      ],
      "source": [
        "pip install gspread oauth2client"
      ]
    },
    {
      "cell_type": "code",
      "execution_count": null,
      "metadata": {
        "colab": {
          "base_uri": "https://localhost:8080/"
        },
        "id": "U6OnxrAi-fHq",
        "outputId": "1db7e320-3545-4be7-bd30-3e80df83016d",
        "collapsed": true
      },
      "outputs": [
        {
          "name": "stdout",
          "output_type": "stream",
          "text": [
            "Collecting xlsxwriter\n",
            "  Downloading XlsxWriter-3.2.0-py3-none-any.whl.metadata (2.6 kB)\n",
            "Downloading XlsxWriter-3.2.0-py3-none-any.whl (159 kB)\n",
            "\u001b[2K   \u001b[90m━━━━━━━━━━━━━━━━━━━━━━━━━━━━━━━━━━━━━━━━\u001b[0m \u001b[32m159.9/159.9 kB\u001b[0m \u001b[31m3.2 MB/s\u001b[0m eta \u001b[36m0:00:00\u001b[0m\n",
            "\u001b[?25hInstalling collected packages: xlsxwriter\n",
            "Successfully installed xlsxwriter-3.2.0\n"
          ]
        }
      ],
      "source": [
        "!pip install xlsxwriter\n"
      ]
    },
    {
      "cell_type": "markdown",
      "source": [
        "最終結果輸出xlsx"
      ],
      "metadata": {
        "id": "ybac9aofTrSl"
      }
    },
    {
      "cell_type": "code",
      "source": [
        "import gradio as gr\n",
        "import pandas as pd\n",
        "import random\n",
        "from io import BytesIO\n",
        "import tempfile\n",
        "\n",
        "# 定義檢查邏輯，確保班別需求滿足\n",
        "def check_shift_needs(final_df, shift_needs, months):\n",
        "    for month in months:\n",
        "        count_A = (final_df[month] == 'A').sum()\n",
        "        count_E = (final_df[month] == 'E').sum()\n",
        "        count_N = (final_df[month] == 'N').sum()\n",
        "        if count_A != shift_needs[\"A\"] or count_E != shift_needs[\"E\"] or count_N != shift_needs[\"N\"]:\n",
        "            return False\n",
        "    return True\n",
        "\n",
        "# Step 1: 定義班表分配邏輯\n",
        "def assign_shifts_based_on_month_preferences(employees, shift_needs, months):\n",
        "    employees = employees.set_index('name')  # 設定姓名為索引\n",
        "    final_df = pd.DataFrame(index=employees.index, columns=months)\n",
        "\n",
        "    while True:\n",
        "        final_df[:] = None\n",
        "        for i, month in enumerate(months):\n",
        "            candidates_for_A = [emp for emp, choices in employees.iterrows() if choices.iloc[i] == \"A\"]\n",
        "            candidates_for_E = [emp for emp, choices in employees.iterrows() if choices.iloc[i] == \"E\"]\n",
        "            candidates_for_N = [emp for emp, choices in employees.iterrows() if choices.iloc[i] == \"N\"]\n",
        "\n",
        "            selected_A = random.sample(candidates_for_A, min(len(candidates_for_A), shift_needs[\"A\"]))\n",
        "            selected_E = random.sample(candidates_for_E, min(len(candidates_for_E), shift_needs[\"E\"]))\n",
        "            selected_N = random.sample(candidates_for_N, min(len(candidates_for_N), shift_needs[\"N\"]))\n",
        "\n",
        "            remaining_A = shift_needs[\"A\"] - len(selected_A)\n",
        "            remaining_E = shift_needs[\"E\"] - len(selected_E)\n",
        "            remaining_N = shift_needs[\"N\"] - len(selected_N)\n",
        "\n",
        "            not_selected = set(employees.index) - set(selected_A) - set(selected_E) - set(selected_N)\n",
        "\n",
        "            if remaining_A > 0:\n",
        "                selected_A += random.sample(list(not_selected), remaining_A)\n",
        "                not_selected -= set(selected_A)\n",
        "\n",
        "            if remaining_E > 0:\n",
        "                selected_E += random.sample(list(not_selected), remaining_E)\n",
        "                not_selected -= set(selected_E)\n",
        "\n",
        "            if remaining_N > 0:\n",
        "                selected_N += random.sample(list(not_selected), remaining_N)\n",
        "\n",
        "            for emp in selected_A:\n",
        "                final_df.at[emp, month] = 'A'\n",
        "            for emp in selected_E:\n",
        "                final_df.at[emp, month] = 'E'\n",
        "            for emp in selected_N:\n",
        "                final_df.at[emp, month] = 'N'\n",
        "\n",
        "        for emp in employees.index:\n",
        "            if 'A' not in final_df.loc[emp].values:\n",
        "                available_months = [month for month in months if final_df.at[emp, month] != 'A']\n",
        "                if available_months:\n",
        "                    chosen_month = random.choice(available_months)\n",
        "                    final_df.at[emp, chosen_month] = 'A'\n",
        "\n",
        "        if check_shift_needs(final_df, shift_needs, months):\n",
        "            break\n",
        "\n",
        "    final_df.reset_index(inplace=True)  # 確保 \"Name\" 在結果中顯示\n",
        "    final_df.rename(columns={\"index\": \"Name\"}, inplace=True)\n",
        "\n",
        "    return final_df\n",
        "\n",
        "# Step 2: 保底機制\n",
        "def ensure_minimum_matches_with_swap(schedule, original_preferences, months, min_matches=2):\n",
        "    def calculate_matches(employee, original, schedule):\n",
        "        matches = 0\n",
        "        for i, month in enumerate(months):\n",
        "            if schedule.loc[employee, month] == original.iloc[i]:\n",
        "                matches += 1\n",
        "        return matches\n",
        "\n",
        "    has_suai_ghosts = True\n",
        "\n",
        "    while has_suai_ghosts:\n",
        "        has_suai_ghosts = False  # 假設沒有衰鬼\n",
        "\n",
        "        for employee, original in original_preferences.iterrows():\n",
        "            matches = calculate_matches(employee, original, schedule)\n",
        "\n",
        "            if matches < min_matches:\n",
        "                has_suai_ghosts = True\n",
        "\n",
        "                for top_employee, top_original in original_preferences.iterrows():\n",
        "                    if top_employee == employee:\n",
        "                        continue\n",
        "\n",
        "                    top_matches = calculate_matches(top_employee, top_original, schedule)\n",
        "\n",
        "                    if top_matches > matches:\n",
        "                        for i, month in enumerate(months):\n",
        "                            if schedule.loc[top_employee, month] == original.iloc[i] and schedule.loc[employee, month] != original.iloc[i]:\n",
        "                                schedule.loc[employee, month], schedule.loc[top_employee, month] = schedule.loc[top_employee, month], schedule.loc[employee, month]\n",
        "                                matches = calculate_matches(employee, original, schedule)\n",
        "                                if matches >= min_matches:\n",
        "                                    break\n",
        "                        if matches >= min_matches:\n",
        "                            break\n",
        "    return schedule\n",
        "\n",
        "# Step 3: 依據生成的班表隨機抽取員工並替換班別\n",
        "def assign_special_shifts(schedule_df, months):\n",
        "    updated_schedule = schedule_df.copy()\n",
        "    selected_employees = set()\n",
        "\n",
        "    # Step 1: 處理 N 班，逐月隨機選取一位員工替換成 N1\n",
        "    for month in months:\n",
        "        available_employees = [emp for emp in schedule_df.index if schedule_df.at[emp, month] == 'N' and emp not in selected_employees]\n",
        "        if available_employees:\n",
        "            selected_N = random.choice(available_employees)\n",
        "            updated_schedule.at[selected_N, month] = 'N1'\n",
        "            selected_employees.add(selected_N)\n",
        "\n",
        "    # Step 2: 處理 E 班，逐月隨機選取一位員工替換成 E1\n",
        "    for month in months:\n",
        "        available_employees = [emp for emp in schedule_df.index if schedule_df.at[emp, month] == 'E' and emp not in selected_employees]\n",
        "        if available_employees:\n",
        "            selected_E = random.choice(available_employees)\n",
        "            updated_schedule.at[selected_E, month] = 'E1'\n",
        "            selected_employees.add(selected_E)\n",
        "\n",
        "    # Step 3: 處理 A 班，逐月隨機選取兩位員工替換成 A1 和 A2\n",
        "    for month in months:\n",
        "        available_employees = [emp for emp in schedule_df.index if schedule_df.at[emp, month] == 'A' and emp not in selected_employees]\n",
        "        if len(available_employees) >= 2:\n",
        "            selected_A1, selected_A2 = random.sample(available_employees, 2)\n",
        "            updated_schedule.at[selected_A1, month] = 'A1'\n",
        "            updated_schedule.at[selected_A2, month] = 'A2'\n",
        "            selected_employees.add(selected_A1)\n",
        "            selected_employees.add(selected_A2)\n",
        "\n",
        "    return updated_schedule\n",
        "\n",
        "# 定義主要的處理函數\n",
        "def process_schedule(uploaded_file, a_count, e_count, n_count, min_matches):\n",
        "    employees = pd.read_csv(uploaded_file)\n",
        "    shift_needs = {\"A\": a_count, \"E\": e_count, \"N\": n_count}\n",
        "    months = [\"January\", \"February\", \"March\", \"April\", \"May\", \"June\"]\n",
        "\n",
        "    # Step 1: 生成初步班表\n",
        "    schedule_df = assign_shifts_based_on_month_preferences(employees, shift_needs, months)\n",
        "\n",
        "    # Step 2: 執行保底機制\n",
        "    second_schedule_df = ensure_minimum_matches_with_swap(schedule_df.copy(), employees, months, min_matches=min_matches)\n",
        "\n",
        "    # Step 3: 特殊班別分配\n",
        "    final_schedule_df = assign_special_shifts(second_schedule_df, months)\n",
        "\n",
        "    # 將結果保存為 Excel 文件\n",
        "    with tempfile.NamedTemporaryFile(delete=False, suffix=\".xlsx\") as tmp:\n",
        "        with pd.ExcelWriter(tmp.name, engine='xlsxwriter') as writer:\n",
        "            final_schedule_df.to_excel(writer, sheet_name='Schedule', index=False)\n",
        "        return final_schedule_df, tmp.name\n",
        "\n",
        "# 定義 Gradio 介面\n",
        "inputs = [\n",
        "    gr.File(label=\"上傳員工選擇文件\"),\n",
        "    gr.Slider(minimum=1, maximum=50, value=5, label=\"A 班人數\", step=1),\n",
        "    gr.Slider(minimum=1, maximum=50, value=3, label=\"E 班人數\", step=1),\n",
        "    gr.Slider(minimum=1, maximum=50, value=2, label=\"N 班人數\", step=1),\n",
        "    gr.Slider(minimum=1, maximum=6, value=2, label=\"每人最少的班別匹配數\", step=1)\n",
        "]\n",
        "\n",
        "outputs = [\n",
        "    gr.DataFrame(label=\"最終分配結果\"),\n",
        "    gr.File(label=\"下載班表\")\n",
        "]\n",
        "\n",
        "# 啟動 Gradio 應用\n",
        "gr.Interface(fn=process_schedule, inputs=inputs, outputs=outputs, title=\"班表分配系統（含保底機制與特殊班別）\").launch()\n"
      ],
      "metadata": {
        "colab": {
          "base_uri": "https://localhost:8080/",
          "height": 626
        },
        "id": "K9F1K6e8TuS0",
        "outputId": "545bd9a9-f1d5-457b-a740-3c93ddafa2e3"
      },
      "execution_count": null,
      "outputs": [
        {
          "output_type": "stream",
          "name": "stdout",
          "text": [
            "Running Gradio in a Colab notebook requires sharing enabled. Automatically setting `share=True` (you can turn this off by setting `share=False` in `launch()` explicitly).\n",
            "\n",
            "Colab notebook detected. To show errors in colab notebook, set debug=True in launch()\n",
            "* Running on public URL: https://6d4fa0c162b8faf013.gradio.live\n",
            "\n",
            "This share link expires in 72 hours. For free permanent hosting and GPU upgrades, run `gradio deploy` from the terminal in the working directory to deploy to Hugging Face Spaces (https://huggingface.co/spaces)\n"
          ]
        },
        {
          "output_type": "display_data",
          "data": {
            "text/plain": [
              "<IPython.core.display.HTML object>"
            ],
            "text/html": [
              "<div><iframe src=\"https://6d4fa0c162b8faf013.gradio.live\" width=\"100%\" height=\"500\" allow=\"autoplay; camera; microphone; clipboard-read; clipboard-write;\" frameborder=\"0\" allowfullscreen></iframe></div>"
            ]
          },
          "metadata": {}
        },
        {
          "output_type": "execute_result",
          "data": {
            "text/plain": []
          },
          "metadata": {},
          "execution_count": 8
        }
      ]
    }
  ],
  "metadata": {
    "colab": {
      "provenance": [],
      "authorship_tag": "ABX9TyMKBkQ5tZtUB5lu8n4iEH/Z",
      "include_colab_link": true
    },
    "kernelspec": {
      "display_name": "Python 3",
      "name": "python3"
    },
    "language_info": {
      "name": "python"
    }
  },
  "nbformat": 4,
  "nbformat_minor": 0
}